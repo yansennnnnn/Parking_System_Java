{
  "cells": [
    {
      "cell_type": "markdown",
      "metadata": {
        "id": "view-in-github",
        "colab_type": "text"
      },
      "source": [
        "<a href=\"https://colab.research.google.com/github/yansennnnnn/Parking_System_Java/blob/master/Classifier_week2.ipynb\" target=\"_parent\"><img src=\"https://colab.research.google.com/assets/colab-badge.svg\" alt=\"Open In Colab\"/></a>"
      ]
    },
    {
      "cell_type": "markdown",
      "metadata": {
        "id": "-JnrmW256j5h"
      },
      "source": [
        "# Classifier using PyTorch\n",
        "\n",
        "In this notebook we train an MLP classifier on the MINST dataset."
      ]
    },
    {
      "cell_type": "code",
      "execution_count": null,
      "metadata": {
        "scrolled": true,
        "id": "wsRDuS836j5m"
      },
      "outputs": [],
      "source": [
        "import numpy as np\n",
        "import torch\n",
        "import torchvision\n",
        "from torch import nn, optim\n",
        "from torchvision import transforms, datasets\n",
        "import matplotlib.pyplot as plt\n",
        "import os"
      ]
    },
    {
      "cell_type": "code",
      "source": [
        "# check if gpu/cpu\n",
        "print(torch.__version__)\n",
        "device = torch.device('cuda' if torch.cuda.is_available() else 'cpu')\n",
        "print('Using device:', device)"
      ],
      "metadata": {
        "colab": {
          "base_uri": "https://localhost:8080/"
        },
        "id": "BL0qsZ9h-MXb",
        "outputId": "5937a8eb-1a60-4155-a604-cc302e73edd5"
      },
      "execution_count": null,
      "outputs": [
        {
          "output_type": "stream",
          "name": "stdout",
          "text": [
            "1.13.1+cu116\n",
            "Using device: cuda\n"
          ]
        }
      ]
    },
    {
      "cell_type": "markdown",
      "metadata": {
        "id": "SNKRIMHa6j5n"
      },
      "source": [
        "Load the MNIST dataset. This will download a copy to your machine on first use."
      ]
    },
    {
      "cell_type": "markdown",
      "source": [
        "# Mount your google drive to save your results"
      ],
      "metadata": {
        "id": "yul7987zUclB"
      }
    },
    {
      "cell_type": "code",
      "source": [
        "from google.colab import drive\n",
        "drive.mount('/content/drive')\n",
        "\n",
        "# mounted on MyDrive\n",
        "!ls '/content/drive/'"
      ],
      "metadata": {
        "colab": {
          "base_uri": "https://localhost:8080/"
        },
        "id": "rNSelVRnUikA",
        "outputId": "027b9d00-2346-452d-d07d-f456843947d1"
      },
      "execution_count": null,
      "outputs": [
        {
          "output_type": "stream",
          "name": "stdout",
          "text": [
            "Mounted at /content/drive\n",
            "MyDrive\n"
          ]
        }
      ]
    },
    {
      "cell_type": "code",
      "source": [
        "# Define your result path in the Mydrive --> avoids re-running the same network after session\n",
        "ROOT = '/content/drive/MyDrive'\n",
        "DataPath = ROOT + '/Week2-data/'\n",
        "ResultPath = ROOT + '/Week2-results/'\n",
        "\n",
        "# make these directories if not available\n",
        "# --> this will avoid you from downloading the data again and again\n",
        "os.makedirs(DataPath, exist_ok=True)\n",
        "os.makedirs(ResultPath, exist_ok=True)"
      ],
      "metadata": {
        "id": "Fp87CbKyavQE"
      },
      "execution_count": null,
      "outputs": []
    },
    {
      "cell_type": "code",
      "execution_count": null,
      "metadata": {
        "id": "Ic4L2wxW6j5n"
      },
      "outputs": [],
      "source": [
        "# Load the datasets\n",
        "train_set = torchvision.datasets.MNIST(\n",
        "    root=DataPath,\n",
        "    train=True,\n",
        "    download=True,\n",
        "    transform=transforms.ToTensor()\n",
        ")\n",
        "\n",
        "test_set = torchvision.datasets.MNIST(\n",
        "    root=DataPath,\n",
        "    train=False,\n",
        "    download=True,\n",
        "    transform=transforms.ToTensor()\n",
        ")"
      ]
    },
    {
      "cell_type": "markdown",
      "metadata": {
        "id": "xvHMBuKg6j5o"
      },
      "source": [
        "Inspect some of the data."
      ]
    },
    {
      "cell_type": "code",
      "execution_count": null,
      "metadata": {
        "colab": {
          "base_uri": "https://localhost:8080/"
        },
        "id": "gvlq1rM06j5o",
        "outputId": "4b7c6b86-e2bd-4864-fb60-cb95ea028830"
      },
      "outputs": [
        {
          "output_type": "stream",
          "name": "stdout",
          "text": [
            "torch.Size([1, 28, 28])\n",
            "9\n"
          ]
        }
      ],
      "source": [
        "data, label = train_set[4]\n",
        "print(data.size())\n",
        "print(label)\n"
      ]
    },
    {
      "cell_type": "markdown",
      "metadata": {
        "id": "v6mBwyv26j5o"
      },
      "source": [
        "Create some iterable Data Loaders for easy iteration on mini-batches during training and testing. Also, initialise an array with the 10 class IDs."
      ]
    },
    {
      "cell_type": "code",
      "execution_count": null,
      "metadata": {
        "colab": {
          "base_uri": "https://localhost:8080/"
        },
        "id": "ljtjYWSY6j5o",
        "outputId": "ba6840f6-d1b8-474a-f0de-b3b948016120"
      },
      "outputs": [
        {
          "output_type": "stream",
          "name": "stdout",
          "text": [
            "[0 1 2 3 4 5 6 7 8 9]\n"
          ]
        }
      ],
      "source": [
        "train_loader = torch.utils.data.DataLoader(\n",
        "    train_set,\n",
        "    batch_size=16,\n",
        "    shuffle=True,\n",
        "    num_workers=2\n",
        ")\n",
        "\n",
        "test_loader = torch.utils.data.DataLoader(\n",
        "    test_set,\n",
        "    batch_size=24, # Forward pass only so batch size can be larger\n",
        "    shuffle=False,\n",
        "    num_workers=2\n",
        ")\n",
        "\n",
        "classes = np.arange(0, 10)\n",
        "print(classes)"
      ]
    },
    {
      "cell_type": "markdown",
      "metadata": {
        "id": "NS_G1z9_6j5p"
      },
      "source": [
        "Show some images and labels as a sanity check.\n",
        "Use `torchvision.utils.make_grid` to create one image from a set of images. Note that this function converts single channel (grey-scale) tensors to have three channels. This is done by replicating the values into red, green and blue channels."
      ]
    },
    {
      "cell_type": "code",
      "execution_count": null,
      "metadata": {
        "colab": {
          "base_uri": "https://localhost:8080/",
          "height": 151
        },
        "id": "XvCXCVkg6j5p",
        "outputId": "11a2b1e6-b02b-41c2-b508-5fd9da188388"
      },
      "outputs": [
        {
          "output_type": "stream",
          "name": "stdout",
          "text": [
            "torch.Size([16, 1, 28, 28])\n"
          ]
        },
        {
          "output_type": "display_data",
          "data": {
            "text/plain": [
              "<Figure size 432x288 with 1 Axes>"
            ],
            "image/png": "[encoded data removed]"
          },
          "metadata": {
            "needs_background": "light"
          }
        },
        {
          "output_type": "stream",
          "name": "stdout",
          "text": [
            "7 3 3 5 0 1 7 3 2 2 6 3 2 9 5 1\n"
          ]
        }
      ],
      "source": [
        "def timshow(x):\n",
        "    xa = np.transpose(x.numpy(),(1,2,0))\n",
        "    plt.imshow(xa)\n",
        "    plt.axis('off')\n",
        "    plt.show()\n",
        "    return xa\n",
        "\n",
        "# get a batch of random training examples (images and corresponding labels)\n",
        "dataiter = iter(train_loader)\n",
        "# images, labels = dataiter.next()\n",
        "images, labels = next(dataiter)\n",
        "\n",
        "# show images and labels\n",
        "print(images.size())\n",
        "timshow(torchvision.utils.make_grid(images))\n",
        "print(*labels.numpy())     # asterisk unpacks the ndarray\n"
      ]
    },
    {
      "cell_type": "markdown",
      "source": [],
      "metadata": {
        "id": "JOa9FFk5UlRj"
      }
    },
    {
      "cell_type": "markdown",
      "metadata": {
        "id": "hio-JytV6j5p"
      },
      "source": [
        "## Build a classifier\n",
        "Instead of defining the classifier function, loss function and parameter updates directly as we did in PyTorch.ipynb, it is convenient to use the `torch.nn` and `torch.optim` packages. These provide a simple way to build networks without losing sight of the iterative steps in gradient descent.\n",
        "\n",
        "First we construct the classifer function using the nn.Sequential wrapper that simply sequences the steps in the classifier function. In the case of a linear classifier there is just one nn.Linear layer. This is preceeded by `nn.Flatten` that vectorises a $28\\times28$ input image into a 1D vector of length $28*28$. We will also experiment with a two layer classifier."
      ]
    },
    {
      "cell_type": "code",
      "execution_count": null,
      "metadata": {
        "colab": {
          "base_uri": "https://localhost:8080/"
        },
        "id": "pwPcT3bW6j5q",
        "outputId": "6fcd379c-29ca-4173-8328-e129b59bf5e4"
      },
      "outputs": [
        {
          "output_type": "stream",
          "name": "stdout",
          "text": [
            "torch.Size([10, 784])\n",
            "torch.Size([10])\n"
          ]
        }
      ],
      "source": [
        "net1 = nn.Sequential(\n",
        "    nn.Flatten(),\n",
        "\n",
        "    # single layer\n",
        "    nn.Linear(28*28, 10)\n",
        "\n",
        "\n",
        ")\n",
        "\n",
        "for param in net1.parameters():\n",
        "    print(param.shape)\n"
      ]
    },
    {
      "cell_type": "code",
      "source": [
        "net2 = nn.Sequential(\n",
        "    nn.Flatten(),\n",
        "\n",
        "    # single layer\n",
        "    #nn.Linear(28*28, 10)\n",
        "\n",
        "    # two layers\n",
        "    nn.Linear(28*28, 300),\n",
        "    nn.Sigmoid(),\n",
        "    nn.Linear(300,10)\n",
        ")\n",
        "\n",
        "for param in net2.parameters():\n",
        "    print(param.shape)"
      ],
      "metadata": {
        "colab": {
          "base_uri": "https://localhost:8080/"
        },
        "id": "8Tixg5i27dUD",
        "outputId": "654919ee-aa70-4ef9-8d8c-434e39079128"
      },
      "execution_count": null,
      "outputs": [
        {
          "output_type": "stream",
          "name": "stdout",
          "text": [
            "torch.Size([300, 784])\n",
            "torch.Size([300])\n",
            "torch.Size([10, 300])\n",
            "torch.Size([10])\n"
          ]
        }
      ]
    },
    {
      "cell_type": "markdown",
      "metadata": {
        "id": "wphxAdlM6j5q"
      },
      "source": [
        "Train the network. For the two-layer network you'll need at least 200 epochs. 50 epochs will be more than enough for the one-layer network, but we'll run for the same number of epochs as for the two-layer network to give the full curve in the plot below."
      ]
    },
    {
      "cell_type": "code",
      "execution_count": null,
      "metadata": {
        "colab": {
          "base_uri": "https://localhost:8080/"
        },
        "id": "e-T55C3L6j5q",
        "outputId": "14987132-edd6-4b99-a427-a1ef29139d4b"
      },
      "outputs": [
        {
          "output_type": "stream",
          "name": "stdout",
          "text": [
            "epoch: 1 loss:  0.614\n",
            "epoch: 2 loss:  0.389\n",
            "epoch: 3 loss:  0.354\n",
            "epoch: 4 loss:  0.336\n",
            "epoch: 5 loss:  0.324\n",
            "epoch: 6 loss:  0.316\n",
            "epoch: 7 loss:  0.309\n",
            "epoch: 8 loss:  0.304\n",
            "epoch: 9 loss:  0.300\n",
            "epoch: 10 loss:  0.296\n",
            "epoch: 11 loss:  0.293\n",
            "epoch: 12 loss:  0.291\n",
            "epoch: 13 loss:  0.288\n",
            "epoch: 14 loss:  0.286\n",
            "epoch: 15 loss:  0.284\n",
            "epoch: 16 loss:  0.283\n",
            "epoch: 17 loss:  0.281\n",
            "epoch: 18 loss:  0.280\n",
            "epoch: 19 loss:  0.278\n",
            "epoch: 20 loss:  0.277\n",
            "epoch: 21 loss:  0.276\n",
            "epoch: 22 loss:  0.275\n",
            "epoch: 23 loss:  0.274\n",
            "epoch: 24 loss:  0.273\n",
            "epoch: 25 loss:  0.272\n",
            "epoch: 26 loss:  0.271\n",
            "epoch: 27 loss:  0.270\n",
            "epoch: 28 loss:  0.270\n",
            "epoch: 29 loss:  0.269\n",
            "epoch: 30 loss:  0.268\n",
            "epoch: 31 loss:  0.267\n",
            "epoch: 32 loss:  0.267\n",
            "epoch: 33 loss:  0.266\n",
            "epoch: 34 loss:  0.266\n",
            "epoch: 35 loss:  0.265\n",
            "epoch: 36 loss:  0.265\n",
            "epoch: 37 loss:  0.264\n",
            "epoch: 38 loss:  0.264\n",
            "epoch: 39 loss:  0.263\n",
            "epoch: 40 loss:  0.263\n",
            "epoch: 41 loss:  0.262\n",
            "epoch: 42 loss:  0.262\n",
            "epoch: 43 loss:  0.261\n",
            "epoch: 44 loss:  0.261\n",
            "epoch: 45 loss:  0.260\n",
            "epoch: 46 loss:  0.260\n",
            "epoch: 47 loss:  0.260\n",
            "epoch: 48 loss:  0.259\n",
            "epoch: 49 loss:  0.259\n",
            "epoch: 50 loss:  0.259\n",
            "epoch: 51 loss:  0.258\n",
            "epoch: 52 loss:  0.258\n",
            "epoch: 53 loss:  0.258\n",
            "epoch: 54 loss:  0.257\n",
            "epoch: 55 loss:  0.257\n",
            "epoch: 56 loss:  0.257\n",
            "epoch: 57 loss:  0.256\n",
            "epoch: 58 loss:  0.256\n",
            "epoch: 59 loss:  0.256\n",
            "epoch: 60 loss:  0.256\n",
            "epoch: 61 loss:  0.255\n",
            "epoch: 62 loss:  0.255\n",
            "epoch: 63 loss:  0.255\n",
            "epoch: 64 loss:  0.255\n",
            "epoch: 65 loss:  0.254\n",
            "epoch: 66 loss:  0.254\n",
            "epoch: 67 loss:  0.254\n",
            "epoch: 68 loss:  0.254\n",
            "epoch: 69 loss:  0.253\n",
            "epoch: 70 loss:  0.253\n",
            "epoch: 71 loss:  0.253\n",
            "epoch: 72 loss:  0.253\n",
            "epoch: 73 loss:  0.253\n",
            "epoch: 74 loss:  0.252\n",
            "epoch: 75 loss:  0.252\n",
            "epoch: 76 loss:  0.252\n",
            "epoch: 77 loss:  0.252\n",
            "epoch: 78 loss:  0.252\n",
            "epoch: 79 loss:  0.251\n",
            "epoch: 80 loss:  0.251\n",
            "epoch: 81 loss:  0.251\n",
            "epoch: 82 loss:  0.251\n",
            "epoch: 83 loss:  0.250\n",
            "epoch: 84 loss:  0.251\n",
            "epoch: 85 loss:  0.250\n",
            "epoch: 86 loss:  0.250\n",
            "epoch: 87 loss:  0.250\n",
            "epoch: 88 loss:  0.250\n",
            "epoch: 89 loss:  0.250\n",
            "epoch: 90 loss:  0.249\n",
            "epoch: 91 loss:  0.249\n",
            "epoch: 92 loss:  0.249\n",
            "epoch: 93 loss:  0.249\n",
            "epoch: 94 loss:  0.249\n",
            "epoch: 95 loss:  0.249\n",
            "epoch: 96 loss:  0.248\n",
            "epoch: 97 loss:  0.248\n",
            "epoch: 98 loss:  0.248\n",
            "epoch: 99 loss:  0.248\n",
            "epoch: 100 loss:  0.248\n"
          ]
        }
      ],
      "source": [
        "nepochs = 100    # number of epochs\n",
        "net = net1       # 1-layer model\n",
        "results_path = ResultPath + 'linear1layer200epochs.pt'\n",
        "\n",
        "# initialise ndarray to store the mean loss in each epoch (on the training data)\n",
        "losses = np.zeros(nepochs)\n",
        "\n",
        "# Use a loss function and optimiser provided as part of PyTorch.\n",
        "# The chosen optimiser (Stochastic Gradient Descent with momentum) needs only to be given the parameters (weights and biases)\n",
        "# of the network and updates these when asked to perform an optimisation step below.\n",
        "loss_fn = nn.CrossEntropyLoss()\n",
        "optimizer = optim.SGD(net.parameters(), lr=0.001, momentum=0.9)\n",
        "\n",
        "for epoch in range(nepochs):  # loop over the dataset multiple times\n",
        "\n",
        "    # initialise variables for mean loss calculation\n",
        "    running_loss = 0.0\n",
        "    n = 0\n",
        "\n",
        "    for data in train_loader:\n",
        "        inputs, labels = data\n",
        "\n",
        "        # Zero the parameter gradients to remove accumulated gradient from a previous iteration.\n",
        "        optimizer.zero_grad()\n",
        "\n",
        "        # Forward, backward, and update parameters\n",
        "        outputs = net(inputs)\n",
        "        loss = loss_fn(outputs, labels)\n",
        "        loss.backward()\n",
        "        optimizer.step()\n",
        "\n",
        "        # accumulate loss and increment minibatches\n",
        "        running_loss += loss.item()\n",
        "        n += 1\n",
        "\n",
        "    # record the mean loss for this epoch and show progress\n",
        "    losses[epoch] = running_loss / n\n",
        "    print(f\"epoch: {epoch+1} loss: {losses[epoch] : .3f}\")\n",
        "\n",
        "# save network parameters and losses\n",
        "torch.save({\"state_dict\": net.state_dict(), \"losses\": losses}, results_path)\n",
        ""
      ]
    },
    {
      "cell_type": "code",
      "source": [
        "nepochs = 100   # number of epochs\n",
        "net = net2       # 2-layer model\n",
        "results_path = ResultPath + '/linear2layer200epochs.pt'\n",
        "\n",
        "# initialise ndarray to store the mean loss in each epoch (on the training data)\n",
        "losses = np.zeros(nepochs)\n",
        "\n",
        "# Use a loss function and optimiser provided as part of PyTorch.\n",
        "# The chosen optimiser (Stochastic Gradient Descent with momentum) needs only to be given the parameters (weights and biases)\n",
        "# of the network and updates these when asked to perform an optimisation step below.\n",
        "loss_fn = nn.CrossEntropyLoss()\n",
        "optimizer = optim.SGD(net.parameters(), lr=0.001, momentum=0.9)\n",
        "\n",
        "for epoch in range(nepochs):  # loop over the dataset multiple times\n",
        "\n",
        "    # initialise variables for mean loss calculation\n",
        "    running_loss = 0.0\n",
        "    n = 0\n",
        "\n",
        "    for data in train_loader:\n",
        "        inputs, labels = data\n",
        "\n",
        "        # Zero the parameter gradients to remove accumulated gradient from a previous iteration.\n",
        "        optimizer.zero_grad()\n",
        "\n",
        "        # Forward, backward, and update parameters\n",
        "        outputs = net(inputs)\n",
        "        loss = loss_fn(outputs, labels)\n",
        "        loss.backward()\n",
        "        optimizer.step()\n",
        "\n",
        "        # accumulate loss and increment minibatches\n",
        "        running_loss += loss.item()\n",
        "        n += 1\n",
        "\n",
        "    # record the mean loss for this epoch and show progress\n",
        "    losses[epoch] = running_loss / n\n",
        "    print(f\"epoch: {epoch+1} loss: {losses[epoch] : .3f}\")\n",
        "\n",
        "# save network parameters and losses\n",
        "torch.save({\"state_dict\": net.state_dict(), \"losses\": losses}, results_path)"
      ],
      "metadata": {
        "colab": {
          "base_uri": "https://localhost:8080/"
        },
        "id": "F1KZrbCB_38i",
        "outputId": "c21af3ab-d1b9-42e3-d130-3adac1e3610c"
      },
      "execution_count": null,
      "outputs": [
        {
          "output_type": "stream",
          "name": "stdout",
          "text": [
            "epoch: 1 loss:  1.374\n",
            "epoch: 2 loss:  0.542\n",
            "epoch: 3 loss:  0.416\n",
            "epoch: 4 loss:  0.369\n",
            "epoch: 5 loss:  0.344\n",
            "epoch: 6 loss:  0.328\n",
            "epoch: 7 loss:  0.316\n",
            "epoch: 8 loss:  0.306\n",
            "epoch: 9 loss:  0.299\n",
            "epoch: 10 loss:  0.292\n",
            "epoch: 11 loss:  0.286\n",
            "epoch: 12 loss:  0.280\n",
            "epoch: 13 loss:  0.275\n",
            "epoch: 14 loss:  0.270\n",
            "epoch: 15 loss:  0.265\n",
            "epoch: 16 loss:  0.260\n",
            "epoch: 17 loss:  0.255\n",
            "epoch: 18 loss:  0.250\n",
            "epoch: 19 loss:  0.246\n",
            "epoch: 20 loss:  0.241\n",
            "epoch: 21 loss:  0.236\n",
            "epoch: 22 loss:  0.232\n",
            "epoch: 23 loss:  0.227\n",
            "epoch: 24 loss:  0.223\n",
            "epoch: 25 loss:  0.219\n",
            "epoch: 26 loss:  0.214\n",
            "epoch: 27 loss:  0.210\n",
            "epoch: 28 loss:  0.206\n",
            "epoch: 29 loss:  0.202\n",
            "epoch: 30 loss:  0.198\n",
            "epoch: 31 loss:  0.195\n",
            "epoch: 32 loss:  0.191\n",
            "epoch: 33 loss:  0.188\n",
            "epoch: 34 loss:  0.184\n",
            "epoch: 35 loss:  0.181\n",
            "epoch: 36 loss:  0.178\n",
            "epoch: 37 loss:  0.175\n",
            "epoch: 38 loss:  0.172\n",
            "epoch: 39 loss:  0.169\n",
            "epoch: 40 loss:  0.166\n",
            "epoch: 41 loss:  0.163\n",
            "epoch: 42 loss:  0.160\n",
            "epoch: 43 loss:  0.158\n",
            "epoch: 44 loss:  0.155\n",
            "epoch: 45 loss:  0.153\n",
            "epoch: 46 loss:  0.150\n",
            "epoch: 47 loss:  0.148\n",
            "epoch: 48 loss:  0.145\n",
            "epoch: 49 loss:  0.143\n",
            "epoch: 50 loss:  0.141\n",
            "epoch: 51 loss:  0.139\n",
            "epoch: 52 loss:  0.137\n",
            "epoch: 53 loss:  0.135\n",
            "epoch: 54 loss:  0.133\n",
            "epoch: 55 loss:  0.131\n",
            "epoch: 56 loss:  0.129\n",
            "epoch: 57 loss:  0.127\n",
            "epoch: 58 loss:  0.126\n",
            "epoch: 59 loss:  0.124\n",
            "epoch: 60 loss:  0.122\n",
            "epoch: 61 loss:  0.120\n",
            "epoch: 62 loss:  0.119\n",
            "epoch: 63 loss:  0.117\n",
            "epoch: 64 loss:  0.116\n",
            "epoch: 65 loss:  0.114\n",
            "epoch: 66 loss:  0.113\n",
            "epoch: 67 loss:  0.111\n",
            "epoch: 68 loss:  0.110\n",
            "epoch: 69 loss:  0.108\n",
            "epoch: 70 loss:  0.107\n",
            "epoch: 71 loss:  0.106\n",
            "epoch: 72 loss:  0.105\n",
            "epoch: 73 loss:  0.103\n",
            "epoch: 74 loss:  0.102\n",
            "epoch: 75 loss:  0.101\n",
            "epoch: 76 loss:  0.100\n",
            "epoch: 77 loss:  0.098\n",
            "epoch: 78 loss:  0.097\n",
            "epoch: 79 loss:  0.096\n",
            "epoch: 80 loss:  0.095\n",
            "epoch: 81 loss:  0.094\n",
            "epoch: 82 loss:  0.093\n",
            "epoch: 83 loss:  0.092\n",
            "epoch: 84 loss:  0.091\n",
            "epoch: 85 loss:  0.090\n",
            "epoch: 86 loss:  0.089\n",
            "epoch: 87 loss:  0.088\n",
            "epoch: 88 loss:  0.087\n",
            "epoch: 89 loss:  0.086\n",
            "epoch: 90 loss:  0.085\n",
            "epoch: 91 loss:  0.084\n",
            "epoch: 92 loss:  0.083\n",
            "epoch: 93 loss:  0.082\n",
            "epoch: 94 loss:  0.082\n",
            "epoch: 95 loss:  0.081\n",
            "epoch: 96 loss:  0.080\n",
            "epoch: 97 loss:  0.079\n",
            "epoch: 98 loss:  0.078\n",
            "epoch: 99 loss:  0.078\n",
            "epoch: 100 loss:  0.077\n"
          ]
        }
      ]
    },
    {
      "cell_type": "markdown",
      "metadata": {
        "id": "_21HMUZ06j5r"
      },
      "source": [
        "Notice that the first dimension of inputs and outputs corresponds to a minibatch of examples."
      ]
    },
    {
      "cell_type": "code",
      "execution_count": null,
      "metadata": {
        "colab": {
          "base_uri": "https://localhost:8080/"
        },
        "id": "luzUWmSf6j5r",
        "outputId": "a2b65539-83b2-4d81-da8e-cbf0c83478a0"
      },
      "outputs": [
        {
          "output_type": "stream",
          "name": "stdout",
          "text": [
            "input size: torch.Size([16, 1, 28, 28]), output size: torch.Size([16, 10])\n"
          ]
        }
      ],
      "source": [
        "print(f\"input size: {inputs.size()}, output size: {outputs.size()}\")"
      ]
    },
    {
      "cell_type": "markdown",
      "metadata": {
        "id": "NApOqVHH6j5r"
      },
      "source": [
        "Compare the history of the loss function during training (mean loss in each epoch) for 1 and 2 layer models"
      ]
    },
    {
      "cell_type": "code",
      "execution_count": null,
      "metadata": {
        "colab": {
          "base_uri": "https://localhost:8080/",
          "height": 295
        },
        "id": "CpUL3ZOG6j5s",
        "outputId": "b5f39f40-e0f2-4be7-f821-d6eb1d4605f4"
      },
      "outputs": [
        {
          "output_type": "display_data",
          "data": {
            "text/plain": [
              "<Figure size 432x288 with 1 Axes>"
            ],
            "image/png": "[encoded data removed]"
          },
          "metadata": {
            "needs_background": "light"
          }
        }
      ],
      "source": [
        "d1 = torch.load(ResultPath +  'linear1layer200epochs.pt')\n",
        "d2 = torch.load(ResultPath + 'linear2layer200epochs.pt')\n",
        "\n",
        "fig = plt.figure()\n",
        "\n",
        "plt.plot(d1[\"losses\"], 'r', label = '1 layer', )\n",
        "plt.plot(d2[\"losses\"], 'g', label = '2 layers' )\n",
        "plt.legend()\n",
        "plt.xlabel('epoch')\n",
        "plt.ylabel('loss')\n",
        "plt.title('Training loss for 1 and 2 layer classifiers')\n",
        "\n",
        "fig.savefig(ResultPath + \"training_loss_MNIST.svg\")\n",
        "plt.show()"
      ]
    },
    {
      "cell_type": "markdown",
      "metadata": {
        "id": "r2mx7xaB6j5s"
      },
      "source": [
        "How does the trained classifier `net` perform on the test set? First define our performance measures in terms of a given confusion matrix."
      ]
    },
    {
      "cell_type": "code",
      "execution_count": null,
      "metadata": {
        "id": "1yTxDyOq6j5s"
      },
      "outputs": [],
      "source": [
        "def accuracy(cnfm):\n",
        "    return cnfm.trace()/cnfm.sum((0,1))\n",
        "\n",
        "def recalls(cnfm):\n",
        "    return np.diag(cnfm)/cnfm.sum(1)\n",
        "\n",
        "def precisions(cnfm):\n",
        "    return np.diag(cnfm)/cnfm.sum(0)"
      ]
    },
    {
      "cell_type": "markdown",
      "metadata": {
        "id": "ohYeBU736j5s"
      },
      "source": [
        "Run the model on test data, build a confusion matrix and compute performance measures."
      ]
    },
    {
      "cell_type": "code",
      "execution_count": null,
      "metadata": {
        "colab": {
          "base_uri": "https://localhost:8080/",
          "height": 639
        },
        "id": "l_DFIZOZ6j5s",
        "outputId": "1193838a-304c-4224-816c-723ab8296a3a"
      },
      "outputs": [
        {
          "output_type": "stream",
          "name": "stdout",
          "text": [
            "Confusion matrix\n",
            "[[ 964    0    2    2    0    4    1    4    1    2]\n",
            " [   0 1124    3    1    0    1    3    1    2    0]\n",
            " [   4    1 1006    4    3    0    3    5    6    0]\n",
            " [   0    0    5  988    0    2    0    9    4    2]\n",
            " [   2    0    5    1  947    1    2    3    2   19]\n",
            " [   6    1    0    9    2  859    6    2    5    2]\n",
            " [   9    3    2    1    2    7  926    3    5    0]\n",
            " [   1    9    9    5    0    1    0  995    1    7]\n",
            " [   4    1    2    8    3    5    6    7  936    2]\n",
            " [   5    6    1    9   13    4    0    9    0  962]]\n",
            "Accuracy: 97.1%\n",
            "Class 0 : Precision 96.9%  Recall 98.4%\n",
            "Class 1 : Precision 98.2%  Recall 99.0%\n",
            "Class 2 : Precision 97.2%  Recall 97.5%\n",
            "Class 3 : Precision 96.1%  Recall 97.8%\n",
            "Class 4 : Precision 97.6%  Recall 96.4%\n",
            "Class 5 : Precision 97.2%  Recall 96.3%\n",
            "Class 6 : Precision 97.8%  Recall 96.7%\n",
            "Class 7 : Precision 95.9%  Recall 96.8%\n",
            "Class 8 : Precision 97.3%  Recall 96.1%\n",
            "Class 9 : Precision 96.6%  Recall 95.3%\n"
          ]
        },
        {
          "output_type": "display_data",
          "data": {
            "text/plain": [
              "<Figure size 432x288 with 1 Axes>"
            ],
            "image/png": "[encoded data removed]"
          },
          "metadata": {
            "needs_background": "light"
          }
        }
      ],
      "source": [
        "d = torch.load(ResultPath + 'linear2layer200epochs.pt')\n",
        "# now load the parameter state into the current model (make sure this is the right model).\n",
        "net.load_state_dict(d[\"state_dict\"])\n",
        "\n",
        "# initialise confusion matrix\n",
        "nclasses = classes.shape[0]\n",
        "cnfm = np.zeros((nclasses,nclasses),dtype=int)\n",
        "\n",
        "# work without gradient computation since we are testing (i.e. no optimisation)\n",
        "with torch.no_grad():\n",
        "    for data in test_loader:\n",
        "        images, labels = data\n",
        "        outputs = net(images)\n",
        "\n",
        "        # find the class with the highest output.\n",
        "        # note that the outputs are confidence values since we didn't need to apply softmax in our network\n",
        "        # (nn.crossentropyloss takes raw condifence values and does its own softmax)\n",
        "        _, predicted = torch.max(outputs, 1)\n",
        "\n",
        "\n",
        "        # accumulate into confusion matrix\n",
        "        for i in range(labels.size(0)):\n",
        "            cnfm[labels[i].item(),predicted[i].item()] += 1\n",
        "\n",
        "print(\"Confusion matrix\")\n",
        "print(cnfm)\n",
        "\n",
        "# show confusion matrix as a grey-level image\n",
        "plt.imshow(cnfm, cmap='gray')\n",
        "\n",
        "# show per-class recall and precision\n",
        "print(f\"Accuracy: {accuracy(cnfm) :.1%}\")\n",
        "r = recalls(cnfm)\n",
        "p = precisions(cnfm)\n",
        "for i in range(nclasses):\n",
        "    print(f\"Class {classes[i]} : Precision {p[i] :.1%}  Recall {r[i] :.1%}\")\n"
      ]
    },
    {
      "cell_type": "markdown",
      "metadata": {
        "id": "CkXbNvV-6j5t"
      },
      "source": [
        "## Defining a bespoke model class\n",
        "\n",
        "In the above, we have used the 'container' module `nn.Sequential` to define our network. To give more flexibility in the definition of the network, we can replace this with our own `nn.module` as below. Notice here, we have used this flexibility to perform the flattening ourselves instead of using `nn.Flatten` - this will be more efficient."
      ]
    },
    {
      "cell_type": "code",
      "execution_count": null,
      "metadata": {
        "colab": {
          "base_uri": "https://localhost:8080/"
        },
        "id": "wwiQvmiM6j5t",
        "outputId": "bb470369-64d8-4a5d-b627-8d10b09968ec"
      },
      "outputs": [
        {
          "output_type": "stream",
          "name": "stdout",
          "text": [
            "Classifier(\n",
            "  (fc1): Linear(in_features=784, out_features=10, bias=True)\n",
            ")\n"
          ]
        }
      ],
      "source": [
        "class Classifier(nn.Module):\n",
        "\n",
        "    def __init__(self, num_classes=10):\n",
        "        super(Classifier, self).__init__()\n",
        "        self.fc1 = nn.Linear(28 * 28, num_classes)\n",
        "\n",
        "    def forward(self, x):\n",
        "        out = x.reshape(x.size(0), -1) # flatten the input\n",
        "        out = self.fc1(out)\n",
        "        return out\n",
        "\n",
        "net = Classifier()\n",
        "print(net)"
      ]
    },
    {
      "cell_type": "markdown",
      "metadata": {
        "id": "XeMEU-3l6j5t"
      },
      "source": [
        "## Exercise\n",
        "Experiment with the impact on accuracy of (1) adding a third fully-connected linear layer to the network and (2) replacing `nn.Sigmoid` by `nn.ReLU`."
      ]
    },
    {
      "cell_type": "code",
      "source": [
        "net3 = nn.Sequential(\n",
        "    nn.Flatten(),\n",
        "\n",
        "    # single layer\n",
        "    #nn.Linear(28*28, 10)\n",
        "\n",
        "    # two layers\n",
        "    nn.Linear(28*28, 300),\n",
        "    nn.ReLU(),\n",
        "\n",
        "    nn.Linear(300,10)\n",
        ")\n",
        "\n",
        "for param in net3.parameters():\n",
        "    print(param.shape)"
      ],
      "metadata": {
        "colab": {
          "base_uri": "https://localhost:8080/"
        },
        "id": "x46CiuZEsUWx",
        "outputId": "25c00267-f7d1-452a-96ee-b87e36dd3520"
      },
      "execution_count": 20,
      "outputs": [
        {
          "output_type": "stream",
          "name": "stdout",
          "text": [
            "torch.Size([300, 784])\n",
            "torch.Size([300])\n",
            "torch.Size([10, 300])\n",
            "torch.Size([10])\n"
          ]
        }
      ]
    },
    {
      "cell_type": "code",
      "source": [
        "nepochs = 100   # number of epochs\n",
        "net = net3       # 2-layer model\n",
        "results_path = ResultPath + '/linear3layer200epochs.pt'\n",
        "\n",
        "# initialise ndarray to store the mean loss in each epoch (on the training data)\n",
        "losses = np.zeros(nepochs)\n",
        "\n",
        "# Use a loss function and optimiser provided as part of PyTorch.\n",
        "# The chosen optimiser (Stochastic Gradient Descent with momentum) needs only to be given the parameters (weights and biases)\n",
        "# of the network and updates these when asked to perform an optimisation step below.\n",
        "loss_fn = nn.CrossEntropyLoss()\n",
        "optimizer = optim.SGD(net.parameters(), lr=0.001, momentum=0.9)\n",
        "\n",
        "for epoch in range(nepochs):  # loop over the dataset multiple times\n",
        "\n",
        "    # initialise variables for mean loss calculation\n",
        "    running_loss = 0.0\n",
        "    n = 0\n",
        "\n",
        "    for data in train_loader:\n",
        "        inputs, labels = data\n",
        "\n",
        "        # Zero the parameter gradients to remove accumulated gradient from a previous iteration.\n",
        "        optimizer.zero_grad()\n",
        "\n",
        "        # Forward, backward, and update parameters\n",
        "        outputs = net(inputs)\n",
        "        loss = loss_fn(outputs, labels)\n",
        "        loss.backward()\n",
        "        optimizer.step()\n",
        "\n",
        "        # accumulate loss and increment minibatches\n",
        "        running_loss += loss.item()\n",
        "        n += 1\n",
        "\n",
        "    # record the mean loss for this epoch and show progress\n",
        "    losses[epoch] = running_loss / n\n",
        "    print(f\"epoch: {epoch+1} loss: {losses[epoch] : .3f}\")\n",
        "\n",
        "# save network parameters and losses\n",
        "torch.save({\"state_dict\": net.state_dict(), \"losses\": losses}, results_path)"
      ],
      "metadata": {
        "colab": {
          "base_uri": "https://localhost:8080/"
        },
        "id": "xV_uq_6FuB7D",
        "outputId": "54dd62f9-38aa-432c-d28e-3cd6ae95b9a9"
      },
      "execution_count": 22,
      "outputs": [
        {
          "output_type": "stream",
          "name": "stdout",
          "text": [
            "epoch: 1 loss:  0.095\n",
            "epoch: 2 loss:  0.089\n",
            "epoch: 3 loss:  0.083\n",
            "epoch: 4 loss:  0.078\n",
            "epoch: 5 loss:  0.073\n",
            "epoch: 6 loss:  0.070\n",
            "epoch: 7 loss:  0.066\n",
            "epoch: 8 loss:  0.063\n",
            "epoch: 9 loss:  0.059\n",
            "epoch: 10 loss:  0.057\n",
            "epoch: 11 loss:  0.054\n",
            "epoch: 12 loss:  0.052\n",
            "epoch: 13 loss:  0.049\n",
            "epoch: 14 loss:  0.047\n",
            "epoch: 15 loss:  0.045\n",
            "epoch: 16 loss:  0.043\n",
            "epoch: 17 loss:  0.042\n",
            "epoch: 18 loss:  0.040\n",
            "epoch: 19 loss:  0.038\n",
            "epoch: 20 loss:  0.037\n",
            "epoch: 21 loss:  0.035\n",
            "epoch: 22 loss:  0.034\n",
            "epoch: 23 loss:  0.032\n",
            "epoch: 24 loss:  0.031\n",
            "epoch: 25 loss:  0.030\n",
            "epoch: 26 loss:  0.029\n",
            "epoch: 27 loss:  0.028\n",
            "epoch: 28 loss:  0.027\n",
            "epoch: 29 loss:  0.026\n",
            "epoch: 30 loss:  0.025\n",
            "epoch: 31 loss:  0.024\n",
            "epoch: 32 loss:  0.024\n",
            "epoch: 33 loss:  0.023\n",
            "epoch: 34 loss:  0.022\n",
            "epoch: 35 loss:  0.021\n",
            "epoch: 36 loss:  0.021\n",
            "epoch: 37 loss:  0.020\n",
            "epoch: 38 loss:  0.019\n",
            "epoch: 39 loss:  0.019\n",
            "epoch: 40 loss:  0.018\n",
            "epoch: 41 loss:  0.018\n",
            "epoch: 42 loss:  0.017\n",
            "epoch: 43 loss:  0.017\n",
            "epoch: 44 loss:  0.016\n",
            "epoch: 45 loss:  0.016\n",
            "epoch: 46 loss:  0.015\n",
            "epoch: 47 loss:  0.015\n",
            "epoch: 48 loss:  0.014\n",
            "epoch: 49 loss:  0.014\n",
            "epoch: 50 loss:  0.013\n",
            "epoch: 51 loss:  0.013\n",
            "epoch: 52 loss:  0.013\n",
            "epoch: 53 loss:  0.012\n",
            "epoch: 54 loss:  0.012\n",
            "epoch: 55 loss:  0.012\n",
            "epoch: 56 loss:  0.011\n",
            "epoch: 57 loss:  0.011\n",
            "epoch: 58 loss:  0.011\n",
            "epoch: 59 loss:  0.011\n",
            "epoch: 60 loss:  0.010\n",
            "epoch: 61 loss:  0.010\n",
            "epoch: 62 loss:  0.010\n",
            "epoch: 63 loss:  0.010\n",
            "epoch: 64 loss:  0.009\n",
            "epoch: 65 loss:  0.009\n",
            "epoch: 66 loss:  0.009\n",
            "epoch: 67 loss:  0.009\n",
            "epoch: 68 loss:  0.009\n",
            "epoch: 69 loss:  0.008\n",
            "epoch: 70 loss:  0.008\n",
            "epoch: 71 loss:  0.008\n",
            "epoch: 72 loss:  0.008\n",
            "epoch: 73 loss:  0.008\n",
            "epoch: 74 loss:  0.007\n",
            "epoch: 75 loss:  0.007\n",
            "epoch: 76 loss:  0.007\n",
            "epoch: 77 loss:  0.007\n",
            "epoch: 78 loss:  0.007\n",
            "epoch: 79 loss:  0.007\n",
            "epoch: 80 loss:  0.007\n",
            "epoch: 81 loss:  0.006\n",
            "epoch: 82 loss:  0.006\n",
            "epoch: 83 loss:  0.006\n",
            "epoch: 84 loss:  0.006\n",
            "epoch: 85 loss:  0.006\n",
            "epoch: 86 loss:  0.006\n",
            "epoch: 87 loss:  0.006\n",
            "epoch: 88 loss:  0.006\n",
            "epoch: 89 loss:  0.006\n",
            "epoch: 90 loss:  0.005\n",
            "epoch: 91 loss:  0.005\n",
            "epoch: 92 loss:  0.005\n",
            "epoch: 93 loss:  0.005\n",
            "epoch: 94 loss:  0.005\n",
            "epoch: 95 loss:  0.005\n",
            "epoch: 96 loss:  0.005\n",
            "epoch: 97 loss:  0.005\n",
            "epoch: 98 loss:  0.005\n",
            "epoch: 99 loss:  0.005\n",
            "epoch: 100 loss:  0.005\n"
          ]
        }
      ]
    },
    {
      "cell_type": "code",
      "source": [
        "d3 = torch.load(ResultPath + 'linear3layer200epochs.pt')\n",
        "\n",
        "fig = plt.figure()\n",
        "\n",
        "plt.plot(d1[\"losses\"], 'r', label = '1 layer', )\n",
        "# plt.plot(d2[\"losses\"], 'g', label = '2 layers' )\n",
        "plt.plot(d3[\"losses\"], 'b', label = '3 layers' )\n",
        "plt.legend()\n",
        "plt.xlabel('epoch')\n",
        "plt.ylabel('loss')\n",
        "plt.title('Training loss for 1 and 2 and 3 layer classifiers')\n",
        "\n",
        "fig.savefig(ResultPath + \"training_loss_MNIST.svg\")\n",
        "plt.show()\n"
      ],
      "metadata": {
        "colab": {
          "base_uri": "https://localhost:8080/",
          "height": 529
        },
        "id": "xmsXOJXPuAxs",
        "outputId": "d6fa7621-81a3-4175-fd0b-2327e8ee1af1"
      },
      "execution_count": 26,
      "outputs": [
        {
          "output_type": "stream",
          "name": "stderr",
          "text": [
            "<ipython-input-26-23a776e42e9e>:1: FutureWarning: You are using `torch.load` with `weights_only=False` (the current default value), which uses the default pickle module implicitly. It is possible to construct malicious pickle data which will execute arbitrary code during unpickling (See https://github.com/pytorch/pytorch/blob/main/SECURITY.md#untrusted-models for more details). In a future release, the default value for `weights_only` will be flipped to `True`. This limits the functions that could be executed during unpickling. Arbitrary objects will no longer be allowed to be loaded via this mode unless they are explicitly allowlisted by the user via `torch.serialization.add_safe_globals`. We recommend you start setting `weights_only=True` for any use case where you don't have full control of the loaded file. Please open an issue on GitHub for any issues related to this experimental feature.\n",
            "  d3 = torch.load(ResultPath + 'linear3layer200epochs.pt')\n"
          ]
        },
        {
          "output_type": "display_data",
          "data": {
            "text/plain": [
              "<Figure size 640x480 with 1 Axes>"
            ],
            "image/png": "[encoded data removed]"
          },
          "metadata": {}
        }
      ]
    },
    {
      "cell_type": "code",
      "source": [
        "d = torch.load(ResultPath + 'linear3layer200epochs.pt')\n",
        "# now load the parameter state into the current model (make sure this is the right model).\n",
        "net.load_state_dict(d[\"state_dict\"])\n",
        "\n",
        "# initialise confusion matrix\n",
        "nclasses = classes.shape[0]\n",
        "cnfm = np.zeros((nclasses,nclasses),dtype=int)\n",
        "\n",
        "# work without gradient computation since we are testing (i.e. no optimisation)\n",
        "with torch.no_grad():\n",
        "    for data in test_loader:\n",
        "        images, labels = data\n",
        "        outputs = net(images)\n",
        "\n",
        "        # find the class with the highest output.\n",
        "        # note that the outputs are confidence values since we didn't need to apply softmax in our network\n",
        "        # (nn.crossentropyloss takes raw condifence values and does its own softmax)\n",
        "        _, predicted = torch.max(outputs, 1)\n",
        "\n",
        "\n",
        "        # accumulate into confusion matrix\n",
        "        for i in range(labels.size(0)):\n",
        "            cnfm[labels[i].item(),predicted[i].item()] += 1\n",
        "\n",
        "print(\"Confusion matrix\")\n",
        "print(cnfm)\n",
        "\n",
        "# show confusion matrix as a grey-level image\n",
        "plt.imshow(cnfm, cmap='gray')\n",
        "\n",
        "# show per-class recall and precision\n",
        "print(f\"Accuracy: {accuracy(cnfm) :.1%}\")\n",
        "r = recalls(cnfm)\n",
        "p = precisions(cnfm)\n",
        "for i in range(nclasses):\n",
        "    print(f\"Class {classes[i]} : Precision {p[i] :.1%}  Recall {r[i] :.1%}\")\n"
      ],
      "metadata": {
        "colab": {
          "base_uri": "https://localhost:8080/",
          "height": 893
        },
        "id": "OH9fh3_6vQKR",
        "outputId": "fe1243d0-c2a8-4a67-b3db-d532ad364f1a"
      },
      "execution_count": 27,
      "outputs": [
        {
          "output_type": "stream",
          "name": "stderr",
          "text": [
            "<ipython-input-27-29cd1fc0afa2>:1: FutureWarning: You are using `torch.load` with `weights_only=False` (the current default value), which uses the default pickle module implicitly. It is possible to construct malicious pickle data which will execute arbitrary code during unpickling (See https://github.com/pytorch/pytorch/blob/main/SECURITY.md#untrusted-models for more details). In a future release, the default value for `weights_only` will be flipped to `True`. This limits the functions that could be executed during unpickling. Arbitrary objects will no longer be allowed to be loaded via this mode unless they are explicitly allowlisted by the user via `torch.serialization.add_safe_globals`. We recommend you start setting `weights_only=True` for any use case where you don't have full control of the loaded file. Please open an issue on GitHub for any issues related to this experimental feature.\n",
            "  d = torch.load(ResultPath + 'linear3layer200epochs.pt')\n"
          ]
        },
        {
          "output_type": "stream",
          "name": "stdout",
          "text": [
            "Confusion matrix\n",
            "[[ 969    0    1    0    1    0    3    1    3    2]\n",
            " [   0 1123    3    2    0    1    2    1    3    0]\n",
            " [   3    3 1010    2    2    0    2    5    5    0]\n",
            " [   0    0    3  992    0    3    0    2    2    8]\n",
            " [   1    0    2    0  966    0    4    1    0    8]\n",
            " [   3    0    0    5    1  872    3    1    5    2]\n",
            " [   3    2    1    1    4    3  943    0    1    0]\n",
            " [   0    1    9    2    1    0    0 1009    1    5]\n",
            " [   6    0    2    3    3    1    2    2  953    2]\n",
            " [   1    2    0    4    8    2    1    4    1  986]]\n",
            "Accuracy: 98.2%\n",
            "Class 0 : Precision 98.3%  Recall 98.9%\n",
            "Class 1 : Precision 99.3%  Recall 98.9%\n",
            "Class 2 : Precision 98.0%  Recall 97.9%\n",
            "Class 3 : Precision 98.1%  Recall 98.2%\n",
            "Class 4 : Precision 98.0%  Recall 98.4%\n",
            "Class 5 : Precision 98.9%  Recall 97.8%\n",
            "Class 6 : Precision 98.2%  Recall 98.4%\n",
            "Class 7 : Precision 98.3%  Recall 98.2%\n",
            "Class 8 : Precision 97.8%  Recall 97.8%\n",
            "Class 9 : Precision 97.3%  Recall 97.7%\n"
          ]
        },
        {
          "output_type": "display_data",
          "data": {
            "text/plain": [
              "<Figure size 640x480 with 1 Axes>"
            ],
            "image/png": "[encoded data removed]"
          },
          "metadata": {}
        }
      ]
    }
  ],
  "metadata": {
    "kernelspec": {
      "display_name": "Python 3 (ipykernel)",
      "language": "python",
      "name": "python3"
    },
    "language_info": {
      "codemirror_mode": {
        "name": "ipython",
        "version": 3
      },
      "file_extension": ".py",
      "mimetype": "text/x-python",
      "name": "python",
      "nbconvert_exporter": "python",
      "pygments_lexer": "ipython3",
      "version": "3.9.7"
    },
    "colab": {
      "provenance": [],
      "machine_shape": "hm",
      "gpuClass": "premium",
      "include_colab_link": true
    },
    "accelerator": "GPU",
    "gpuClass": "premium"
  },
  "nbformat": 4,
  "nbformat_minor": 0
}